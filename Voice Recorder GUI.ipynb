{
 "cells": [
  {
   "cell_type": "code",
   "execution_count": 1,
   "id": "351ecfc7-8045-4ee6-813e-1842eff40ffc",
   "metadata": {},
   "outputs": [
    {
     "name": "stdout",
     "output_type": "stream",
     "text": [
      "Collecting sounddeviceNote: you may need to restart the kernel to use updated packages.\n",
      "\n",
      "  Using cached sounddevice-0.5.1-py3-none-win_amd64.whl.metadata (1.4 kB)\n",
      "Collecting wavio\n",
      "  Using cached wavio-0.0.9-py3-none-any.whl.metadata (5.7 kB)\n",
      "Requirement already satisfied: CFFI>=1.0 in c:\\users\\saru5\\anaconda3\\lib\\site-packages (from sounddevice) (1.16.0)\n",
      "Requirement already satisfied: numpy>=1.19.0 in c:\\users\\saru5\\anaconda3\\lib\\site-packages (from wavio) (1.26.4)\n",
      "Requirement already satisfied: pycparser in c:\\users\\saru5\\anaconda3\\lib\\site-packages (from CFFI>=1.0->sounddevice) (2.21)\n",
      "Using cached sounddevice-0.5.1-py3-none-win_amd64.whl (363 kB)\n",
      "Using cached wavio-0.0.9-py3-none-any.whl (9.5 kB)\n",
      "Installing collected packages: wavio, sounddevice\n",
      "Successfully installed sounddevice-0.5.1 wavio-0.0.9\n"
     ]
    }
   ],
   "source": [
    "pip install sounddevice wavio\n"
   ]
  },
  {
   "cell_type": "code",
   "execution_count": 3,
   "id": "f4e66b94-5bda-45d1-8b1e-9e363196e580",
   "metadata": {},
   "outputs": [],
   "source": [
    "import tkinter as tk\n",
    "import sounddevice as sd\n",
    "import wavio as wv\n",
    "import threading\n",
    "\n",
    "def run_tkinter_in_thread():\n",
    "    global root\n",
    "    root = tk.Tk()\n",
    "    root.title(\"Voice Recorder\")\n",
    "    root.geometry(\"400x200\")\n",
    "\n",
    "    \n",
    "    global is_recording, duration\n",
    "    fs = 44100  \n",
    "    duration = 10  \n",
    "    is_recording = False\n",
    "\n",
    "   \n",
    "    def start_recording():\n",
    "        global is_recording\n",
    "        is_recording = True\n",
    "        record_button.config(state=tk.DISABLED)\n",
    "        stop_button.config(state=tk.NORMAL)\n",
    "        \n",
    "        def record_audio():\n",
    "            recording = sd.rec(int(duration * fs), samplerate=fs, channels=2)\n",
    "            sd.wait() \n",
    "            wv.write(\"output.wav\", recording, fs, sampwidth=2) \n",
    "        \n",
    "       \n",
    "        threading.Thread(target=record_audio).start()\n",
    "\n",
    "    \n",
    "    def stop_recording():\n",
    "        global is_recording\n",
    "        is_recording = False\n",
    "        sd.stop()  \n",
    "        record_button.config(state=tk.NORMAL)\n",
    "        stop_button.config(state=tk.DISABLED)\n",
    "\n",
    "    \n",
    "    def set_duration(value):\n",
    "        global duration\n",
    "        duration = int(value)\n",
    "\n",
    "\n",
    "    label = tk.Label(root, text=\"Voice Recorder\", font=(\"Arial\", 16))\n",
    "    label.pack(pady=10)\n",
    "\n",
    "    duration_label = tk.Label(root, text=\"Set Duration (Seconds):\", font=(\"Arial\", 12))\n",
    "    duration_label.pack(pady=5)\n",
    "\n",
    "    duration_slider = tk.Scale(root, from_=1, to=60, orient=tk.HORIZONTAL, command=set_duration)\n",
    "    duration_slider.set(duration)\n",
    "    duration_slider.pack(pady=5)\n",
    "\n",
    "    global record_button, stop_button\n",
    "    record_button = tk.Button(root, text=\"Start Recording\", font=(\"Arial\", 12), command=start_recording)\n",
    "    record_button.pack(pady=5)\n",
    "\n",
    "    stop_button = tk.Button(root, text=\"Stop Recording\", font=(\"Arial\", 12), state=tk.DISABLED, command=stop_recording)\n",
    "    stop_button.pack(pady=5)\n",
    "\n",
    "   \n",
    "    root.mainloop()\n",
    "\n",
    "\n",
    "threading.Thread(target=run_tkinter_in_thread).start()\n"
   ]
  },
  {
   "cell_type": "code",
   "execution_count": null,
   "id": "56766d02-e7be-4f43-9ca0-e673197e814a",
   "metadata": {},
   "outputs": [],
   "source": []
  }
 ],
 "metadata": {
  "kernelspec": {
   "display_name": "Python 3 (ipykernel)",
   "language": "python",
   "name": "python3"
  },
  "language_info": {
   "codemirror_mode": {
    "name": "ipython",
    "version": 3
   },
   "file_extension": ".py",
   "mimetype": "text/x-python",
   "name": "python",
   "nbconvert_exporter": "python",
   "pygments_lexer": "ipython3",
   "version": "3.12.4"
  }
 },
 "nbformat": 4,
 "nbformat_minor": 5
}
